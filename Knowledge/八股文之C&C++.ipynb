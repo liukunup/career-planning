{
 "cells": [
  {
   "cell_type": "markdown",
   "metadata": {},
   "source": [
    "# 八股文之C&C++\n",
    "\n",
    "适用阅读对象\n",
    "\n",
    "- 刚入门的C/C++程序员菜鸟\n",
    "- 已参加工作的C/C++从业者\n",
    "\n",
    "对于还没接触过C语言的萌新，建议先从[菜鸟教程](https://www.runoob.com/cprogramming/c-tutorial.html)开始～\n",
    "\n",
    "即将演示在`Jupyter Notebook`下执行C&C++代码～\n",
    "\n",
    "[Xeus Cling](https://github.com/jupyter-xeus/xeus-cling) is a Jupyter kernel for C++ based on the C++ interpreter cling and the native implementation of the Jupyter protocol xeus."
   ]
  },
  {
   "cell_type": "markdown",
   "metadata": {},
   "source": [
    "## 安装部署\n",
    "\n",
    "```shell\n",
    "# 1.镜像拉取\n",
    "docker pull datainpoint/xeus-cling-notebook:latest\n",
    "\n",
    "# 2.镜像部署（默认密码为123456）\n",
    "docker run -d \\\n",
    "  -p 8888:8888 \\\n",
    "  -v $(PWD)/Knowledge:/home/jovyan/work \\\n",
    "  -e JUPYTER_ENABLE_LAB=yes \\\n",
    "  -e GRANT_SUDO=yes \\\n",
    "  --restart=always \\\n",
    "  --name=xeus-cling-notebook \\\n",
    "  datainpoint/xeus-cling-notebook:latest start-notebook.sh \\\n",
    "  --NotebookApp.password='argon2:$argon2id$v=19$m=10240,t=10,p=8$LaE/ahJVX6KHFhkYvwPv9w$BN+q+SBvJlcFn41qEIUq2GMT/TapRZcoiPeJfmvyqdA'\n",
    "```\n",
    "\n",
    "登陆体验 [Notebook for C&C++](http://localhost:8888/)"
   ]
  },
  {
   "cell_type": "markdown",
   "metadata": {},
   "source": [
    "### C Demo"
   ]
  },
  {
   "cell_type": "code",
   "execution_count": 1,
   "metadata": {},
   "outputs": [
    {
     "name": "stdout",
     "output_type": "stream",
     "text": [
      "Hello world!\n"
     ]
    }
   ],
   "source": [
    "#include <stdio.h>\n",
    "\n",
    "// 打印输出\n",
    "printf(\"Hello World!\\n\");"
   ]
  },
  {
   "cell_type": "markdown",
   "metadata": {},
   "source": [
    "### CPP Demo"
   ]
  },
  {
   "cell_type": "code",
   "execution_count": 2,
   "metadata": {},
   "outputs": [
    {
     "name": "stdout",
     "output_type": "stream",
     "text": [
      "Hello world!\n"
     ]
    }
   ],
   "source": [
    "#include <iostream>\n",
    "\n",
    "// 打印输出\n",
    "std::cout << \"Hello World!\" << std::endl;"
   ]
  },
  {
   "cell_type": "markdown",
   "metadata": {},
   "source": [
    "### Help"
   ]
  },
  {
   "cell_type": "code",
   "execution_count": 3,
   "metadata": {},
   "outputs": [
    {
     "data": {
      "text/html": [
       "<style>\n",
       "            #pager-container {\n",
       "                padding: 0;\n",
       "                margin: 0;\n",
       "                width: 100%;\n",
       "                height: 100%;\n",
       "            }\n",
       "            .xcpp-iframe-pager {\n",
       "                padding: 0;\n",
       "                margin: 0;\n",
       "                width: 100%;\n",
       "                height: 100%;\n",
       "                border: none;\n",
       "            }\n",
       "            </style>\n",
       "            <iframe class=\"xcpp-iframe-pager\" src=\"https://en.cppreference.com/w/cpp/container/vector?action=purge\"></iframe>"
      ],
      "text/plain": [
       "https://en.cppreference.com/w/cpp/container/vector"
      ]
     },
     "metadata": {},
     "output_type": "display_data"
    }
   ],
   "source": [
    "?std::vector"
   ]
  },
  {
   "cell_type": "markdown",
   "metadata": {},
   "source": [
    "## C 语言\n",
    "\n",
    "C语言是一种通用的、`面向过程`的计算机`程序设计语言`。1972年，为了移植与开发`UNIX`操作系统，`丹尼斯·里奇`在`贝尔电话实验室`设计开发了C语言。"
   ]
  },
  {
   "cell_type": "markdown",
   "metadata": {},
   "source": [
    "### 编译过程：预编译、编译、汇编、链接\n",
    "\n",
    "> 请问：上述C/C++的代码是如何一步一步处理并被最终执行的？\n",
    "\n",
    "1. 预编译 作用是将源文件(.c)处理生成预编译文件(.i)\n",
    "  - 执行预处理指令（例如，#include、#define，我们后面还会讲到更多）\n",
    "  - 删除所有注释\n",
    "  \n",
    "  ```shell\n",
    "  # GCC 预编译指令\n",
    "  gcc -E <源文件> -o <预编译文件>\n",
    "  # 样例\n",
    "  gcc -E HelloWorld.c -o HelloWorld.i\n",
    "  ```\n",
    "\n",
    "2. 编译 作用是将预编译文件(.i)编译生成汇编代码(.s)\n",
    "  - 语法分析\n",
    "  - 词法分析\n",
    "  - 语义分析\n",
    "  - 符号汇总（汇总全局符号，例如全局变量、函数名）\n",
    "\n",
    "  ```shell\n",
    "  # GCC 编译指令\n",
    "  gcc -S <预编译文件> -o <汇编代码>\n",
    "  # 样例\n",
    "  gcc -S HelloWorld.i -o HelloWorld.s\n",
    "  ```\n",
    "\n",
    "3. 汇编 作用是将汇编代码转换为机器指令（二进制指令）的目标文件\n",
    "  - 形成符号表\n",
    "\n",
    "  ```shell\n",
    "  # GCC 汇编指令\n",
    "  gcc -c <汇编代码>\n",
    "  # 样例\n",
    "  gcc -c HelloWorld.s\n",
    "  ```\n",
    "\n",
    "  注意：机器指令文件为`elf`格式，可以用`readelf`命令查看\n",
    "\n",
    "4. 链接 作用是将多个目标文件和函数库链接为可执行程序\n",
    "  - 合并段表\n",
    "  - 符号表的合并和重定位\n",
    "\n",
    "  ```shell\n",
    "  # GCC 链接指令\n",
    "  gcc <多个目标文件> -o <可执行程序>\n",
    "  # 样例\n",
    "  gcc HelloWorld_1.c HelloWorld_2.c HelloWorld_3.c -o HelloWorld.out\n",
    "  ```\n",
    "\n",
    "5. 执行 作用是在计算机上执行生成的可执行文件\n",
    "  - 取指\n",
    "  - 译码\n",
    "  - 执行\n",
    "  - 访存\n",
    "  - 回写\n",
    "\n",
    "注意：`ANSI C`是由`美国国家标准协会（ANSI）`及`国际标准化组织（ISO）`推出的关于C语言的标准。此标准中规定，编译过程和执行过程不必在同一台计算机上，因此可以在A计算机上编译然后在B计算机上执行，具体可以查询`交叉编译`进行详细了解。\n",
    "\n",
    "C语言中约定俗成的文件后缀名\n",
    "\n",
    "- `.h` 头文件\n",
    "- `.c` 源文件\n",
    "- `.i` 预编译后的C语言文件\n",
    "- `.s` 编译后的汇编代码文件\n",
    "- `.o` 汇编后的目标文件，又称机器指令文件（在Windows系统中通常以.obj作为后缀名）\n",
    "- `.out` 多个目标文件与函数库链接之后的可执行程序（在Windows系统中通常以.exe作为后缀名）\n",
    "\n",
    "参考链接\n",
    "\n",
    "- [C语言 程序的编译、链接、执行](https://blog.csdn.net/kjl167/article/details/124157077)"
   ]
  },
  {
   "cell_type": "markdown",
   "metadata": {},
   "source": [
    "### 关键字\n",
    "\n",
    "1. 数值类\n",
    "\n",
    "PS：在64位系统下\n",
    "\n",
    "| 类型    | 名称  | 长度 |\n",
    "|-------|-------|------|\n",
    "| char  | 字符型 | 1字节 |\n",
    "| short | 短整型 | 2字节 |\n",
    "| int   | 整型   | 4字节 |\n",
    "| long  | 长整型 | 4字节 |\n",
    "| float | 浮点型 | 8字节 |\n",
    "| double | 双精度浮点型 | 8字节 |\n",
    "\n",
    "- unsigned 无符号\n",
    "- signed 有符号\n",
    "- struct 结构体\n",
    "- union 共用体\n",
    "- enum 枚举\n",
    "- void\n",
    "\n",
    "2. 流程控制类\n",
    "\n",
    "- if else\n",
    "- switch case default\n",
    "- for do while break continue goto\n",
    "- return\n",
    "\n",
    "3. 存储类\n",
    "\n",
    "- auto\n",
    "- extern\n",
    "- register\n",
    "- static\n",
    "- const\n",
    "\n",
    "4. 其他\n",
    "\n",
    "- sizeof\n",
    "- typedef 通过typedef 可以为已有类型取一个新的名字\n",
    "- volatile\n",
    "\n",
    "\n",
    "\n",
    "\n",
    "> 什么是C99/C11？\n",
    "\n",
    "\n",
    "\n",
    "#### C99 新增关键字\n",
    "\n",
    "#### C11 新增关键字"
   ]
  },
  {
   "cell_type": "markdown",
   "metadata": {},
   "source": [
    "### 结构体、共用体、位域"
   ]
  },
  {
   "cell_type": "code",
   "execution_count": null,
   "metadata": {},
   "outputs": [],
   "source": []
  },
  {
   "cell_type": "markdown",
   "metadata": {},
   "source": [
    "### 命令行参数\n",
    "\n",
    "```c\n",
    "#include <stdio.h>\n",
    "\n",
    "int main(int argc, char *argv[])\n",
    "{\n",
    "    printf(\"Hello World!\\n\");\n",
    "    return 0;\n",
    "}\n",
    "```"
   ]
  },
  {
   "cell_type": "code",
   "execution_count": null,
   "metadata": {},
   "outputs": [],
   "source": []
  },
  {
   "cell_type": "markdown",
   "metadata": {},
   "source": [
    "## C++ 语言"
   ]
  },
  {
   "cell_type": "code",
   "execution_count": null,
   "metadata": {},
   "outputs": [],
   "source": []
  },
  {
   "cell_type": "code",
   "execution_count": null,
   "metadata": {},
   "outputs": [],
   "source": []
  },
  {
   "cell_type": "code",
   "execution_count": null,
   "metadata": {},
   "outputs": [],
   "source": []
  },
  {
   "cell_type": "code",
   "execution_count": null,
   "metadata": {},
   "outputs": [],
   "source": []
  },
  {
   "cell_type": "code",
   "execution_count": null,
   "metadata": {},
   "outputs": [],
   "source": []
  },
  {
   "cell_type": "markdown",
   "metadata": {},
   "source": [
    "## C和C++的区别在哪里?"
   ]
  },
  {
   "cell_type": "markdown",
   "metadata": {},
   "source": [
    "1. C是面向过程的语言，而C++是面向对象的语言。\n",
    "2. 输入输出方式、\n",
    "3. C++引入了很多C没有的概念或特性，如引用、类、重载。"
   ]
  },
  {
   "cell_type": "code",
   "execution_count": null,
   "metadata": {},
   "outputs": [],
   "source": []
  },
  {
   "cell_type": "markdown",
   "metadata": {},
   "source": [
    "### 函数、宏函数"
   ]
  },
  {
   "cell_type": "code",
   "execution_count": null,
   "metadata": {},
   "outputs": [],
   "source": []
  },
  {
   "cell_type": "code",
   "execution_count": null,
   "metadata": {},
   "outputs": [],
   "source": []
  },
  {
   "cell_type": "code",
   "execution_count": null,
   "metadata": {},
   "outputs": [],
   "source": []
  },
  {
   "cell_type": "code",
   "execution_count": null,
   "metadata": {},
   "outputs": [],
   "source": []
  },
  {
   "cell_type": "markdown",
   "metadata": {},
   "source": [
    "### 区分i++和++i"
   ]
  },
  {
   "cell_type": "code",
   "execution_count": 18,
   "metadata": {},
   "outputs": [
    {
     "name": "stdout",
     "output_type": "stream",
     "text": [
      "自增，i在前，先取值: 0\n",
      "自增，i在后，先自增: 2，因为i自增了2次\n"
     ]
    }
   ],
   "source": [
    "#include <iostream>\n",
    "\n",
    "int i = 0;\n",
    "int a = i++;\n",
    "int b = ++i;\n",
    "\n",
    "std::cout << \"自增，i在前，先取值: \" << a << std::endl;\n",
    "std::cout << \"自增，i在后，先自增: \" << b << \"，因为i自增了2次\" << std::endl;"
   ]
  },
  {
   "cell_type": "code",
   "execution_count": null,
   "metadata": {},
   "outputs": [],
   "source": []
  },
  {
   "cell_type": "code",
   "execution_count": null,
   "metadata": {},
   "outputs": [],
   "source": []
  },
  {
   "cell_type": "code",
   "execution_count": null,
   "metadata": {},
   "outputs": [],
   "source": []
  },
  {
   "cell_type": "code",
   "execution_count": null,
   "metadata": {},
   "outputs": [],
   "source": []
  },
  {
   "cell_type": "markdown",
   "metadata": {},
   "source": [
    "## C++语言"
   ]
  },
  {
   "cell_type": "markdown",
   "metadata": {},
   "source": []
  },
  {
   "cell_type": "code",
   "execution_count": null,
   "metadata": {},
   "outputs": [],
   "source": []
  },
  {
   "cell_type": "markdown",
   "metadata": {},
   "source": [
    "## 面向对象的三大特性: 封装、继承、多态"
   ]
  },
  {
   "cell_type": "markdown",
   "metadata": {},
   "source": [
    "1. 封装 隐藏细节\n",
    "2. 继承 模块扩展\n",
    "3. 多态 接口重用"
   ]
  },
  {
   "cell_type": "code",
   "execution_count": 8,
   "metadata": {},
   "outputs": [],
   "source": [
    "#include <iostream>\n",
    "#include <string>"
   ]
  },
  {
   "cell_type": "code",
   "execution_count": 9,
   "metadata": {},
   "outputs": [],
   "source": [
    "// Car\n",
    "class Car\n",
    "{\n",
    "public:\n",
    "    // 品牌\n",
    "    std::string brand;\n",
    "\n",
    "    // 构造函数\n",
    "    Car() {\n",
    "        std::cout << \"1. Car()\" << std::endl;\n",
    "    }\n",
    "    Car(std::string brand): brand(brand) {\n",
    "        std::cout << \"1. Car(string brand) \" << brand << std::endl;\n",
    "    }\n",
    "    // 析构函数（使得以父类指针释放子类对象时，可以让子类的析构函数和父类的析构函数同时被调用到）\n",
    "    virtual ~Car() {};\n",
    "\n",
    "    // 打印信息\n",
    "    virtual void info()\n",
    "    {\n",
    "        std::cout << std::endl << \"Car::info() \" << brand << std::endl << std::endl;\n",
    "    }\n",
    "\n",
    "protected:\n",
    "    // 车架号\n",
    "    std::string vin;\n",
    "\n",
    "private:\n",
    "    // 系统编号\n",
    "    int uid;\n",
    "};"
   ]
  },
  {
   "cell_type": "code",
   "execution_count": 10,
   "metadata": {},
   "outputs": [],
   "source": [
    "// Tesla\n",
    "class Tesla : public Car\n",
    "{\n",
    "public:\n",
    "    Tesla() {\n",
    "        std::cout << \"2. Tesla()\" << std::endl;\n",
    "    }\n",
    "    Tesla(std::string brand): Car(brand) {\n",
    "        std::cout << \"2. Tesla(string brand) \" << brand << std::endl;\n",
    "    }\n",
    "\n",
    "    virtual ~Tesla() {\n",
    "        std::cout << \"2. ~Tesla()\" << std::endl;\n",
    "    }\n",
    "    \n",
    "    // 剩余电量\n",
    "    float soc; /* 扩展成员变量 */\n",
    "};"
   ]
  },
  {
   "cell_type": "code",
   "execution_count": 11,
   "metadata": {},
   "outputs": [],
   "source": [
    "// Tesla Model S\n",
    "class ModelS : public Tesla\n",
    "{\n",
    "public:\n",
    "    ModelS() {\n",
    "        std::cout << \"3. ModelS()\" << std::endl;\n",
    "    }\n",
    "    ModelS(std::string brand): Tesla(brand) {\n",
    "        std::cout << \"3. ModelS(string brand) \" << brand << std::endl;\n",
    "    }\n",
    "\n",
    "    ~ModelS() {\n",
    "        std::cout << \"3. ~ModelS()\" << std::endl;\n",
    "    }\n",
    "};"
   ]
  },
  {
   "cell_type": "code",
   "execution_count": 12,
   "metadata": {},
   "outputs": [],
   "source": [
    "// Tesla Model Y\n",
    "class ModelY : public Tesla\n",
    "{\n",
    "public:\n",
    "    ModelY() {\n",
    "        std::cout << \"3. ModelY()\" << std::endl;\n",
    "    }\n",
    "    ModelY(std::string brand): Tesla(brand) {\n",
    "        std::cout << \"3. ModelY(string brand) \" << brand << std::endl;\n",
    "    }\n",
    "\n",
    "    ~ModelY() {\n",
    "        std::cout << \"3. ~ModelY()\" << std::endl;\n",
    "    }\n",
    "    \n",
    "    // 打印信息\n",
    "    void info()\n",
    "    {\n",
    "        std::cout << std::endl << \"ModelY::info() \" << brand << std::endl << std::endl;\n",
    "    }\n",
    "};"
   ]
  },
  {
   "cell_type": "code",
   "execution_count": 13,
   "metadata": {},
   "outputs": [
    {
     "name": "stdout",
     "output_type": "stream",
     "text": [
      "1. Car(string brand) Tesla Model S\n",
      "2. Tesla(string brand) Tesla Model S\n",
      "3. ModelS(string brand) Tesla Model S\n",
      "\n",
      "Car::info() Tesla Model S\n",
      "\n"
     ]
    }
   ],
   "source": [
    "// 对象 由于Notebook此时维持住了对象，并未做释放处理，因此不调用析构函数\n",
    "ModelS modelS(\"Tesla Model S\");\n",
    "modelS.info();"
   ]
  },
  {
   "cell_type": "code",
   "execution_count": 14,
   "metadata": {},
   "outputs": [
    {
     "name": "stdout",
     "output_type": "stream",
     "text": [
      "1. Car(string brand) Tesla Model S\n",
      "2. Tesla(string brand) Tesla Model S\n",
      "3. ModelS(string brand) Tesla Model S\n",
      "\n",
      "Car::info() Tesla Model S\n",
      "\n",
      "3. ~ModelS()\n",
      "2. ~Tesla()\n"
     ]
    }
   ],
   "source": [
    "// 指针\n",
    "Car* pModelS = new ModelS(\"Tesla Model S\");\n",
    "pModelS->info();\n",
    "delete pModelS;"
   ]
  },
  {
   "cell_type": "code",
   "execution_count": 15,
   "metadata": {},
   "outputs": [
    {
     "name": "stdout",
     "output_type": "stream",
     "text": [
      "1. Car(string brand) Tesla Model Y\n",
      "2. Tesla(string brand) Tesla Model Y\n",
      "3. ModelY(string brand) Tesla Model Y\n",
      "\n",
      "ModelY::info() Tesla Model Y\n",
      "\n",
      "3. ~ModelY()\n",
      "2. ~Tesla()\n"
     ]
    }
   ],
   "source": [
    "// 虚函数\n",
    "Car* pModelY = new ModelY(\"Tesla Model Y\");\n",
    "pModelY->info();\n",
    "delete pModelY;"
   ]
  },
  {
   "cell_type": "code",
   "execution_count": null,
   "metadata": {},
   "outputs": [],
   "source": []
  },
  {
   "cell_type": "markdown",
   "metadata": {},
   "source": []
  },
  {
   "cell_type": "code",
   "execution_count": null,
   "metadata": {},
   "outputs": [],
   "source": []
  },
  {
   "cell_type": "code",
   "execution_count": null,
   "metadata": {},
   "outputs": [],
   "source": []
  },
  {
   "cell_type": "code",
   "execution_count": null,
   "metadata": {},
   "outputs": [],
   "source": []
  },
  {
   "cell_type": "code",
   "execution_count": null,
   "metadata": {},
   "outputs": [],
   "source": []
  },
  {
   "cell_type": "code",
   "execution_count": null,
   "metadata": {},
   "outputs": [],
   "source": []
  },
  {
   "cell_type": "code",
   "execution_count": null,
   "metadata": {},
   "outputs": [],
   "source": []
  },
  {
   "cell_type": "code",
   "execution_count": null,
   "metadata": {},
   "outputs": [],
   "source": []
  },
  {
   "cell_type": "markdown",
   "metadata": {},
   "source": [
    "## 内存五大分区: 栈、堆、常量区、静态区、代码区"
   ]
  },
  {
   "cell_type": "markdown",
   "metadata": {},
   "source": [
    "1. C/C++均不提供垃圾回收机制，因此需要对分配的内存进行及时释放，防止内存泄漏；\n",
    "2. 栈内存是动态分配和释放的。\n",
    "\n",
    "| 内存分区 | Roles                      | Sub Domain          | IP Address     | Mac Address       | Device   |\n",
    "|--------|----------------------------|---------------------|----------------|-------------------|----------|\n",
    "| 栈区 | worker, etcd, controlplane | master1.homelab.com | 192.168.100.21 | 56:E6:2F:80:80:45 | C4M16    |\n",
    "| 堆区 | worker, etcd               | node1.homelab.com   | 192.168.100.31 | E6:58:83:E7:33:98 | C4M16    |\n",
    "| 常量区 | worker, etcd               | node2.homelab.com   | 192.168.100.32 | E2:58:EB:E7:F6:64 | C4M16    |\n",
    "| 静态区 | worker, etcd, controlplane | master2.homelab.com | 192.168.100.22 | 46:8F:96:DB:F4:FA | C48M64G1 |\n",
    "| 代码区 | worker, etcd               | node3.homelab.com   | 192.168.100.33 | DE:E4:AF:82:FD:AE | C48M64G1 |"
   ]
  },
  {
   "cell_type": "code",
   "execution_count": 7,
   "metadata": {},
   "outputs": [
    {
     "name": "stdout",
     "output_type": "stream",
     "text": [
      "Data 静态存储区 全局变量地址: 0x7f3d3c4b90dc\n",
      "const 修饰的常量地址: 0x7f3d3c4b90e0\n",
      "13 + 37 = (注意打印的输出顺序)\n",
      "Data 静态存储区 静态变量地址: 0x7f3d3c4b90d8\n",
      "BSS 静态存储区 未初始化的静态变量地址: 0x7f3d3c4b90f0\n",
      "Stack 栈地址: 0x7ffc3edb618c\n",
      "Heap 堆地址: 0x5641af83dd40\n",
      "50\n"
     ]
    }
   ],
   "source": [
    "#include <iostream>\n",
    "#include <stdlib.h>\n",
    "\n",
    "// 定义函数\n",
    "int add(int a, int b)\n",
    "{\n",
    "    // 静态变量\n",
    "    static int num = 999;\n",
    "    std::cout << \"Data 静态存储区 静态变量地址: \" << &num << std::endl;\n",
    "\n",
    "    // 未初始化的静态变量\n",
    "    static int dummy;\n",
    "    std::cout << \"BSS 静态存储区 未初始化的静态变量地址: \" << &dummy << std::endl;\n",
    "\n",
    "    // 形参\n",
    "    std::cout << \"Stack 栈地址: \" << &a << std::endl;\n",
    "\n",
    "    // 动态内存\n",
    "    int* ptr = (int*) malloc(sizeof(int) * 1000);\n",
    "    if (ptr != NULL)\n",
    "    {\n",
    "        std::cout << \"Heap 堆地址: \" << ptr << std::endl;\n",
    "        free(ptr);\n",
    "    }\n",
    "\n",
    "    return a + b;\n",
    "}\n",
    "\n",
    "// 全局变量\n",
    "int gNum = 100;\n",
    "std::cout << \"Data 静态存储区 全局变量地址: \" << &gNum << std::endl;\n",
    "\n",
    "// 字符串常量\n",
    "const char* helloWorld = \"Hello World\";\n",
    "std::cout << \"const 修饰的常量地址: \" << &helloWorld << std::endl;\n",
    "\n",
    "// 随机设置两个数字吧～\n",
    "int num1 = 13;\n",
    "int num2 = 37;\n",
    "\n",
    "// 调用自定义的加法函数\n",
    "std::cout << num1 << \" + \" << num2 << \" = (注意打印的输出顺序)\" << std::endl << add(num1, num2) << std::endl;"
   ]
  },
  {
   "cell_type": "markdown",
   "metadata": {},
   "source": [
    "## 内存分配和释放: malloc/free/new/delete"
   ]
  },
  {
   "cell_type": "markdown",
   "metadata": {},
   "source": [
    "1. `malloc`/`free`是C语言<stdlib.h>中的`库函数`；`new`/`delete`是C++语言中的`关键字`，均可用于申请/释放`动态内存`；\n",
    "2. 在对象创建时(`new`)自动执行构造函数，对象消亡前(`delete`)自动执行析构函数；（底层实现依旧是`malloc`/`free`）\n",
    "3. 内存大小：相比于malloc需要显式填写分配内存大小，new无需指定内存大小，编译器会根据类型自行计算；\n",
    "4. 指针类型：new返回指定类型的指针，malloc默认返回类型为void*，必须强转为实际类型的指针；\n",
    "5. 分配失败：new失败时抛出`bad_alloc`异常，malloc失败时返回`NULL`。"
   ]
  },
  {
   "cell_type": "markdown",
   "metadata": {},
   "source": [
    "#### Linux下内存分布以及分配细节\n",
    "\n",
    "1. 开辟空间小于128K时，通过brk()函数；\n",
    "2. \n",
    "\n",
    "\n",
    "Linux下：\n",
    "\n",
    "将数据段.data的最高地址指针_edata向高地址移动，即增加堆的有效区域来申请内存空间\n",
    "brk分配的内存需要等到高地址内存释放以后才能释放，这也是内存碎片产生的原因\n",
    "开辟空间大于128K时，通过mmap()函数\n",
    "利用mmap系统调用，在堆和栈之间文件映射区域申请一块虚拟内存\n",
    "128K限制可由M_MMAP_THRESHOLD选项进行修改\n",
    "mmap分配的内存可以单独释放\n",
    "以上只涉及虚拟内存的分配，直到进程第一次访问其地址时，才会通过缺页中断机制分配到物理页中\n",
    "\n",
    "\n",
    "\n",
    "\n"
   ]
  },
  {
   "cell_type": "markdown",
   "metadata": {},
   "source": [
    "![Memory Layout](https://gabrieletolomei.files.wordpress.com/2013/10/program_in_memory2.png?w=960)"
   ]
  },
  {
   "cell_type": "markdown",
   "metadata": {},
   "source": [
    "## 指针"
   ]
  },
  {
   "cell_type": "markdown",
   "metadata": {},
   "source": [
    "### 指针与引用"
   ]
  },
  {
   "cell_type": "markdown",
   "metadata": {},
   "source": [
    "本质：引用是别名，指针是地址。\n",
    "\n",
    "1. 指针在运行时可以改变所指向的值，引用一旦和某个对象绑定后就无法再改变；（引用指向的地址不能改变，但指向的内容是可以改变的）\n",
    "2. 指针变量在符号表上对应的地址值是`指针变量的地址值`，引用在符号表上对应的地址值为`引用对象的地址值`；\n",
    "\n",
    "硬件通过地址访问内存，引用可以理解为一个常量指针，只能绑定到初始化它的对象上。"
   ]
  },
  {
   "cell_type": "markdown",
   "metadata": {},
   "source": [
    "### 了解指针"
   ]
  },
  {
   "cell_type": "code",
   "execution_count": 42,
   "metadata": {},
   "outputs": [
    {
     "name": "stdout",
     "output_type": "stream",
     "text": [
      "数组头指针: 0x7fb022cca2a0\n",
      "数组第1个元素: 1\n",
      "数组第2个元素: 2\n",
      "下标0的元素指针: 0x7fb022cca2a0\n",
      "下标1的元素指针: 0x7fb022cca2a4\n",
      "指针相减: 1\n",
      "两个指针间的字节数: 4\n"
     ]
    },
    {
     "data": {
      "text/plain": [
       "@0x7fb022e3eb60"
      ]
     },
     "execution_count": 42,
     "metadata": {},
     "output_type": "execute_result"
    }
   ],
   "source": [
    "#include <iostream>\n",
    "\n",
    "// 初始化一个整型数组\n",
    "int nums[] = {1, 2, 3};\n",
    "\n",
    "// 指针游标移动方式\n",
    "std::cout << \"数组 - 头指针: \" << nums << std::endl;\n",
    "std::cout << \"数组 - 第1个元素: \" << *nums << std::endl; /* 可以理解为 *(nums + 0) */\n",
    "std::cout << \"数组 - 第2个元素: \" << *(nums+1) << std::endl;\n",
    "\n",
    "// 获取指向下标0和下标1两个元素的指针\n",
    "int* ptrElement0 = &nums[0];\n",
    "int* ptrElement1 = &nums[1];\n",
    "\n",
    "// 查看指针实际指向的地址\n",
    "std::cout << \"下标0的元素指针: \" << ptrElement0 << std::endl;\n",
    "std::cout << \"下标1的元素指针: \" << ptrElement1 << std::endl;\n",
    "\n",
    "// 两个`指针相减`会得到相差的`存储空间`个数（或者理解为索引差）\n",
    "std::cout << \"指针相减: \" << ptrElement1 - ptrElement0 << std::endl;\n",
    "// \n",
    "std::cout << \"单个存储空间大小: \" << (long)ptrElement1 - (long)ptrElement0 << std::endl;"
   ]
  },
  {
   "cell_type": "code",
   "execution_count": null,
   "metadata": {},
   "outputs": [],
   "source": []
  },
  {
   "cell_type": "code",
   "execution_count": null,
   "metadata": {},
   "outputs": [],
   "source": []
  },
  {
   "cell_type": "code",
   "execution_count": null,
   "metadata": {},
   "outputs": [],
   "source": []
  },
  {
   "cell_type": "markdown",
   "metadata": {},
   "source": [
    "### 非法指针"
   ]
  },
  {
   "cell_type": "markdown",
   "metadata": {},
   "source": [
    "- 野指针\n",
    "- 悬挂指针"
   ]
  },
  {
   "cell_type": "markdown",
   "metadata": {},
   "source": [
    "### 指针实战样例"
   ]
  },
  {
   "cell_type": "code",
   "execution_count": null,
   "metadata": {},
   "outputs": [],
   "source": [
    "#include <iostream>\n",
    "#include <typeinfo>\n",
    "\n",
    "int num = 100;\n",
    "\n",
    "// 取引用\n",
    "int& numRef = num;\n",
    "// 取指针\n",
    "int* numPtr = &num;\n",
    "\n",
    "std::cout << \"引用: numRef= \" << numRef << \", 类型名= \" << typeid(numRef).name() << std::endl;\n",
    "std::cout << \"指针: numPtr= \" << numPtr << \", 类型名= \" << typeid(numPtr).name() << std::endl;\n",
    "std::cout << \"内容: *numPtr= \" << *numPtr << std::endl;"
   ]
  },
  {
   "cell_type": "code",
   "execution_count": 24,
   "metadata": {},
   "outputs": [
    {
     "data": {
      "text/plain": [
       "999"
      ]
     },
     "execution_count": 24,
     "metadata": {},
     "output_type": "execute_result"
    }
   ],
   "source": [
    "// 修改引用指向的内容\n",
    "numRef = 999;\n",
    "num"
   ]
  },
  {
   "cell_type": "code",
   "execution_count": 29,
   "metadata": {},
   "outputs": [],
   "source": [
    "// 修改引用指向的地址"
   ]
  },
  {
   "cell_type": "code",
   "execution_count": null,
   "metadata": {},
   "outputs": [],
   "source": []
  },
  {
   "cell_type": "markdown",
   "metadata": {},
   "source": [
    "## 概念辨析"
   ]
  },
  {
   "cell_type": "markdown",
   "metadata": {},
   "source": [
    "### 常量指针、指针常量、常量引用（注意没有引用常量）\n",
    "\n",
    "- 常量指针（常量的指针）\n",
    "\n",
    "例如：const char *ptr 是指向字符常量的指针，ptr指向的是一个char*类型的常量，所指向的内容是不能修改的\n",
    "\n",
    "```cpp\n",
    "int num = 100;\n",
    "int& numRef = num;\n",
    "```\n",
    "\n",
    "- 指针常量\n",
    "\n",
    "例如：char * const ptr 是指向字符的指针常量，即const类型的指针，不能修改ptr的指向，但可以修改ptr所指向的内容。\n",
    "\n",
    "```cpp\n",
    "int num = 100;\n",
    "char * const ptr = &num;\n",
    "\n",
    "// 错误 不能修改ptr的指向，会抛出异常\n",
    "int abc = 123;\n",
    "ptr = &abc;\n",
    "\n",
    "// 正确 可以修改ptr所指向的内容\n",
    "*ptr = 999;\n",
    "```\n",
    "\n",
    "- 常量引用\n",
    "\n",
    "简单理解，就是常量的引用。\n",
    "\n",
    "```cpp\n",
    "int num = 100;\n",
    "int& numRef = num;\n",
    "```"
   ]
  },
  {
   "cell_type": "code",
   "execution_count": null,
   "metadata": {},
   "outputs": [],
   "source": []
  }
 ],
 "metadata": {
  "kernelspec": {
   "display_name": "C++11",
   "language": "C++11",
   "name": "xcpp11"
  },
  "language_info": {
   "codemirror_mode": "text/x-c++src",
   "file_extension": ".cpp",
   "mimetype": "text/x-c++src",
   "name": "c++",
   "version": "11"
  }
 },
 "nbformat": 4,
 "nbformat_minor": 5
}
