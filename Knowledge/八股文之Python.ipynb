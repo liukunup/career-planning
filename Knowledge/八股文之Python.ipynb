{
 "cells": [
  {
   "cell_type": "markdown",
   "id": "1574b05e-2b5d-4bd5-b073-604842da4de8",
   "metadata": {},
   "source": [
    "# 八股文之Python"
   ]
  },
  {
   "cell_type": "code",
   "execution_count": null,
   "id": "a496b1c3-8693-451f-bccf-859969045ea7",
   "metadata": {},
   "outputs": [],
   "source": []
  }
 ],
 "metadata": {
  "kernelspec": {
   "display_name": "Python 3 (ipykernel)",
   "language": "python",
   "name": "python3"
  },
  "language_info": {
   "codemirror_mode": {
    "name": "ipython",
    "version": 3
   },
   "file_extension": ".py",
   "mimetype": "text/x-python",
   "name": "python",
   "nbconvert_exporter": "python",
   "pygments_lexer": "ipython3",
   "version": "3.10.8"
  }
 },
 "nbformat": 4,
 "nbformat_minor": 5
}
